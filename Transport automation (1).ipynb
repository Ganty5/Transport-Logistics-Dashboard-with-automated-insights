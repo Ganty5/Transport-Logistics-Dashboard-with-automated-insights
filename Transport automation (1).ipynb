{
 "cells": [
  {
   "cell_type": "code",
   "execution_count": 3,
   "id": "876e16fc",
   "metadata": {},
   "outputs": [
    {
     "name": "stdout",
     "output_type": "stream",
     "text": [
      "Requirement already satisfied: gspread in c:\\users\\chika\\anaconda3\\lib\\site-packages (6.1.4)\n",
      "Requirement already satisfied: google-auth-oauthlib>=0.4.1 in c:\\users\\chika\\anaconda3\\lib\\site-packages (from gspread) (1.2.1)\n",
      "Requirement already satisfied: google-auth>=1.12.0 in c:\\users\\chika\\anaconda3\\lib\\site-packages (from gspread) (2.37.0)\n",
      "Requirement already satisfied: pyasn1-modules>=0.2.1 in c:\\users\\chika\\anaconda3\\lib\\site-packages (from google-auth>=1.12.0->gspread) (0.2.8)\n",
      "Requirement already satisfied: cachetools<6.0,>=2.0.0 in c:\\users\\chika\\anaconda3\\lib\\site-packages (from google-auth>=1.12.0->gspread) (5.5.0)\n",
      "Requirement already satisfied: rsa<5,>=3.1.4 in c:\\users\\chika\\anaconda3\\lib\\site-packages (from google-auth>=1.12.0->gspread) (4.9)\n",
      "Requirement already satisfied: requests-oauthlib>=0.7.0 in c:\\users\\chika\\anaconda3\\lib\\site-packages (from google-auth-oauthlib>=0.4.1->gspread) (2.0.0)\n",
      "Requirement already satisfied: pyasn1<0.5.0,>=0.4.6 in c:\\users\\chika\\anaconda3\\lib\\site-packages (from pyasn1-modules>=0.2.1->google-auth>=1.12.0->gspread) (0.4.8)\n",
      "Requirement already satisfied: requests>=2.0.0 in c:\\users\\chika\\anaconda3\\lib\\site-packages (from requests-oauthlib>=0.7.0->google-auth-oauthlib>=0.4.1->gspread) (2.28.1)\n",
      "Requirement already satisfied: oauthlib>=3.0.0 in c:\\users\\chika\\anaconda3\\lib\\site-packages (from requests-oauthlib>=0.7.0->google-auth-oauthlib>=0.4.1->gspread) (3.2.2)\n",
      "Requirement already satisfied: certifi>=2017.4.17 in c:\\users\\chika\\anaconda3\\lib\\site-packages (from requests>=2.0.0->requests-oauthlib>=0.7.0->google-auth-oauthlib>=0.4.1->gspread) (2022.9.14)\n",
      "Requirement already satisfied: idna<4,>=2.5 in c:\\users\\chika\\anaconda3\\lib\\site-packages (from requests>=2.0.0->requests-oauthlib>=0.7.0->google-auth-oauthlib>=0.4.1->gspread) (3.3)\n",
      "Requirement already satisfied: urllib3<1.27,>=1.21.1 in c:\\users\\chika\\anaconda3\\lib\\site-packages (from requests>=2.0.0->requests-oauthlib>=0.7.0->google-auth-oauthlib>=0.4.1->gspread) (1.26.11)\n",
      "Requirement already satisfied: charset-normalizer<3,>=2 in c:\\users\\chika\\anaconda3\\lib\\site-packages (from requests>=2.0.0->requests-oauthlib>=0.7.0->google-auth-oauthlib>=0.4.1->gspread) (2.0.4)\n",
      "Requirement already satisfied: pandas in c:\\users\\chika\\anaconda3\\lib\\site-packages (1.4.4)\n",
      "Requirement already satisfied: pytz>=2020.1 in c:\\users\\chika\\anaconda3\\lib\\site-packages (from pandas) (2022.1)\n",
      "Requirement already satisfied: numpy>=1.18.5 in c:\\users\\chika\\anaconda3\\lib\\site-packages (from pandas) (1.21.5)\n",
      "Requirement already satisfied: python-dateutil>=2.8.1 in c:\\users\\chika\\anaconda3\\lib\\site-packages (from pandas) (2.8.2)\n",
      "Requirement already satisfied: six>=1.5 in c:\\users\\chika\\anaconda3\\lib\\site-packages (from python-dateutil>=2.8.1->pandas) (1.16.0)\n"
     ]
    }
   ],
   "source": [
    "#installing libraries\n",
    "!pip install gspread \n",
    "!pip install pandas"
   ]
  },
  {
   "cell_type": "code",
   "execution_count": 4,
   "id": "930874ca",
   "metadata": {},
   "outputs": [],
   "source": [
    "import pandas as pd"
   ]
  },
  {
   "cell_type": "code",
   "execution_count": 5,
   "id": "49d63d91",
   "metadata": {},
   "outputs": [
    {
     "name": "stdout",
     "output_type": "stream",
     "text": [
      "Requirement already satisfied: oauth2client in c:\\users\\chika\\anaconda3\\lib\\site-packages (4.1.3)\n",
      "Requirement already satisfied: six>=1.6.1 in c:\\users\\chika\\anaconda3\\lib\\site-packages (from oauth2client) (1.16.0)\n",
      "Requirement already satisfied: pyasn1-modules>=0.0.5 in c:\\users\\chika\\anaconda3\\lib\\site-packages (from oauth2client) (0.2.8)\n",
      "Requirement already satisfied: rsa>=3.1.4 in c:\\users\\chika\\anaconda3\\lib\\site-packages (from oauth2client) (4.9)\n",
      "Requirement already satisfied: pyasn1>=0.1.7 in c:\\users\\chika\\anaconda3\\lib\\site-packages (from oauth2client) (0.4.8)\n",
      "Requirement already satisfied: httplib2>=0.9.1 in c:\\users\\chika\\anaconda3\\lib\\site-packages (from oauth2client) (0.22.0)\n",
      "Requirement already satisfied: pyparsing!=3.0.0,!=3.0.1,!=3.0.2,!=3.0.3,<4,>=2.4.2 in c:\\users\\chika\\anaconda3\\lib\\site-packages (from httplib2>=0.9.1->oauth2client) (3.0.9)\n"
     ]
    }
   ],
   "source": [
    "!pip install oauth2client"
   ]
  },
  {
   "cell_type": "code",
   "execution_count": 6,
   "id": "69157639",
   "metadata": {},
   "outputs": [],
   "source": [
    "import gspread\n",
    "from oauth2client.service_account import ServiceAccountCredentials\n"
   ]
  },
  {
   "cell_type": "code",
   "execution_count": 7,
   "id": "ac35b537",
   "metadata": {},
   "outputs": [],
   "source": [
    "from datetime import datetime, timedelta\n",
    "import random"
   ]
  },
  {
   "cell_type": "code",
   "execution_count": 8,
   "id": "09c8507a",
   "metadata": {},
   "outputs": [],
   "source": [
    "#Defining the scope\n",
    "scope = [\"https://spreadsheets.google.com/feeds\",\n",
    "         \"https://www.googleapis.com/auth/drive\"]\n"
   ]
  },
  {
   "cell_type": "code",
   "execution_count": 9,
   "id": "a929aa23",
   "metadata": {},
   "outputs": [],
   "source": [
    "#Using the JSON Key file from Google cloud console to authenticate/load credientials to ensure complete access to my sheet\n",
    "crediential = ServiceAccountCredentials.from_json_keyfile_name(\"C:/Users/Chika/Downloads/acquired-grid-444809-v6-e94058881be0.json\", \n",
    "    scope\n",
    ")\n"
   ]
  },
  {
   "cell_type": "code",
   "execution_count": 10,
   "id": "29cf840a",
   "metadata": {},
   "outputs": [],
   "source": [
    "#Authorizing the gspread client\n",
    "client = gspread.authorize(crediential)\n"
   ]
  },
  {
   "cell_type": "code",
   "execution_count": 11,
   "id": "c3fc1566",
   "metadata": {},
   "outputs": [],
   "source": [
    "#Opening the google sheet by its name\n",
    "sheet = client.open(\"Transport_orders\").sheet1"
   ]
  },
  {
   "cell_type": "code",
   "execution_count": 12,
   "id": "f25b5d38",
   "metadata": {},
   "outputs": [
    {
     "name": "stdout",
     "output_type": "stream",
     "text": [
      "<class 'list'>\n",
      "<class 'dict'>\n"
     ]
    }
   ],
   "source": [
    "#Fetch and printing all data from my Google Sheet - Transport Order\n",
    "data = sheet.get_all_records()\n",
    "print(type(data))  # Should output <class 'list'>\n",
    "print(type(data[0]))  # Should output <class 'dict'>\n"
   ]
  },
  {
   "cell_type": "code",
   "execution_count": null,
   "id": "a79ede2e",
   "metadata": {
    "scrolled": false
   },
   "outputs": [],
   "source": []
  },
  {
   "cell_type": "code",
   "execution_count": 15,
   "id": "c71cc77e",
   "metadata": {},
   "outputs": [
    {
     "name": "stdout",
     "output_type": "stream",
     "text": [
      "<class 'list'>\n",
      "<class 'dict'>\n",
      "{'Order ID': 2, 'Pickup_Locations': 'Paris', 'Drop_off Locations': 'Los Angeles', 'Order Status': 'Delivered', 'Timestamp': '29/12/2024 21:43:25', 'Shipped date': '31/12/2024 21:43:25', 'Delivery Date': '09/01/2025 21:43:25', 'Delivery Duration': '9 days ', 'Transport Type': 'Train', 'Weight (kg)': 92, 'Volume ': 9, 'Pickup_Latitude': 56.36, 'Pickup_longitude': 28.28, 'Dropoff_Latitude': 40.83, 'Dropoff _Longitude': 9.04, 'Distance (KM)': 2217, 'Cost': 665.04}\n"
     ]
    }
   ],
   "source": [
    "print(type(data))\n",
    "print(type(data[1]))  # Check the type of the first element in the list\n",
    "print(data[1])  # Print the first element to inspect its structure\n"
   ]
  },
  {
   "cell_type": "code",
   "execution_count": null,
   "id": "e7edb28d",
   "metadata": {},
   "outputs": [],
   "source": []
  },
  {
   "cell_type": "code",
   "execution_count": 17,
   "id": "6c490367",
   "metadata": {},
   "outputs": [],
   "source": [
    "TP = pd.DataFrame(data)"
   ]
  },
  {
   "cell_type": "code",
   "execution_count": 18,
   "id": "aec79b7f",
   "metadata": {},
   "outputs": [
    {
     "data": {
      "text/html": [
       "<div>\n",
       "<style scoped>\n",
       "    .dataframe tbody tr th:only-of-type {\n",
       "        vertical-align: middle;\n",
       "    }\n",
       "\n",
       "    .dataframe tbody tr th {\n",
       "        vertical-align: top;\n",
       "    }\n",
       "\n",
       "    .dataframe thead th {\n",
       "        text-align: right;\n",
       "    }\n",
       "</style>\n",
       "<table border=\"1\" class=\"dataframe\">\n",
       "  <thead>\n",
       "    <tr style=\"text-align: right;\">\n",
       "      <th></th>\n",
       "      <th>Order ID</th>\n",
       "      <th>Pickup_Locations</th>\n",
       "      <th>Drop_off Locations</th>\n",
       "      <th>Order Status</th>\n",
       "      <th>Timestamp</th>\n",
       "      <th>Shipped date</th>\n",
       "      <th>Delivery Date</th>\n",
       "      <th>Delivery Duration</th>\n",
       "      <th>Transport Type</th>\n",
       "      <th>Weight (kg)</th>\n",
       "      <th>Volume</th>\n",
       "      <th>Pickup_Latitude</th>\n",
       "      <th>Pickup_longitude</th>\n",
       "      <th>Dropoff_Latitude</th>\n",
       "      <th>Dropoff _Longitude</th>\n",
       "      <th>Distance (KM)</th>\n",
       "      <th>Cost</th>\n",
       "    </tr>\n",
       "  </thead>\n",
       "  <tbody>\n",
       "    <tr>\n",
       "      <th>0</th>\n",
       "      <td>1</td>\n",
       "      <td>Berlin</td>\n",
       "      <td>Rome</td>\n",
       "      <td>Pending</td>\n",
       "      <td>28/12/2024 21:43:23</td>\n",
       "      <td>Awaiting shipment</td>\n",
       "      <td>Pending Delivery</td>\n",
       "      <td>Pending</td>\n",
       "      <td>Ship</td>\n",
       "      <td>34</td>\n",
       "      <td>32</td>\n",
       "      <td>40.85</td>\n",
       "      <td>27.51</td>\n",
       "      <td>39.83</td>\n",
       "      <td>14.32</td>\n",
       "      <td>1122</td>\n",
       "      <td>224.50</td>\n",
       "    </tr>\n",
       "    <tr>\n",
       "      <th>1</th>\n",
       "      <td>2</td>\n",
       "      <td>Paris</td>\n",
       "      <td>Los Angeles</td>\n",
       "      <td>Delivered</td>\n",
       "      <td>29/12/2024 21:43:25</td>\n",
       "      <td>31/12/2024 21:43:25</td>\n",
       "      <td>09/01/2025 21:43:25</td>\n",
       "      <td>9 days</td>\n",
       "      <td>Train</td>\n",
       "      <td>92</td>\n",
       "      <td>9</td>\n",
       "      <td>56.36</td>\n",
       "      <td>28.28</td>\n",
       "      <td>40.83</td>\n",
       "      <td>9.04</td>\n",
       "      <td>2217</td>\n",
       "      <td>665.04</td>\n",
       "    </tr>\n",
       "    <tr>\n",
       "      <th>2</th>\n",
       "      <td>3</td>\n",
       "      <td>Tokyo</td>\n",
       "      <td>Rome</td>\n",
       "      <td>In Transit</td>\n",
       "      <td>26/12/2024 21:43:27</td>\n",
       "      <td>Awaiting shipment</td>\n",
       "      <td>Pending Delivery</td>\n",
       "      <td>Pending</td>\n",
       "      <td>Ship</td>\n",
       "      <td>120</td>\n",
       "      <td>9</td>\n",
       "      <td>37.72</td>\n",
       "      <td>17.04</td>\n",
       "      <td>40.85</td>\n",
       "      <td>20.53</td>\n",
       "      <td>459</td>\n",
       "      <td>91.84</td>\n",
       "    </tr>\n",
       "    <tr>\n",
       "      <th>3</th>\n",
       "      <td>4</td>\n",
       "      <td>New York</td>\n",
       "      <td>Singapore</td>\n",
       "      <td>Delivered</td>\n",
       "      <td>30/12/2024 21:43:28</td>\n",
       "      <td>01/01/2025 21:43:28</td>\n",
       "      <td>10/01/2025 21:43:28</td>\n",
       "      <td>9 days</td>\n",
       "      <td>Train</td>\n",
       "      <td>92</td>\n",
       "      <td>11</td>\n",
       "      <td>54.05</td>\n",
       "      <td>27.38</td>\n",
       "      <td>35.01</td>\n",
       "      <td>0.76</td>\n",
       "      <td>2956</td>\n",
       "      <td>886.71</td>\n",
       "    </tr>\n",
       "    <tr>\n",
       "      <th>4</th>\n",
       "      <td>5</td>\n",
       "      <td>London</td>\n",
       "      <td>Rome</td>\n",
       "      <td>Delivered</td>\n",
       "      <td>28/12/2024 21:43:30</td>\n",
       "      <td>31/12/2024 21:43:30</td>\n",
       "      <td>12/01/2025 21:43:30</td>\n",
       "      <td>12 days</td>\n",
       "      <td>Train</td>\n",
       "      <td>91</td>\n",
       "      <td>13</td>\n",
       "      <td>36.16</td>\n",
       "      <td>0.04</td>\n",
       "      <td>47.36</td>\n",
       "      <td>17.55</td>\n",
       "      <td>1905</td>\n",
       "      <td>571.64</td>\n",
       "    </tr>\n",
       "  </tbody>\n",
       "</table>\n",
       "</div>"
      ],
      "text/plain": [
       "   Order ID Pickup_Locations Drop_off Locations Order Status  \\\n",
       "0         1           Berlin               Rome      Pending   \n",
       "1         2            Paris        Los Angeles    Delivered   \n",
       "2         3            Tokyo               Rome   In Transit   \n",
       "3         4         New York          Singapore    Delivered   \n",
       "4         5           London               Rome    Delivered   \n",
       "\n",
       "             Timestamp         Shipped date        Delivery Date  \\\n",
       "0  28/12/2024 21:43:23    Awaiting shipment     Pending Delivery   \n",
       "1  29/12/2024 21:43:25  31/12/2024 21:43:25  09/01/2025 21:43:25   \n",
       "2  26/12/2024 21:43:27    Awaiting shipment     Pending Delivery   \n",
       "3  30/12/2024 21:43:28  01/01/2025 21:43:28  10/01/2025 21:43:28   \n",
       "4  28/12/2024 21:43:30  31/12/2024 21:43:30  12/01/2025 21:43:30   \n",
       "\n",
       "  Delivery Duration Transport Type  Weight (kg)  Volume   Pickup_Latitude  \\\n",
       "0           Pending           Ship           34       32            40.85   \n",
       "1           9 days           Train           92        9            56.36   \n",
       "2           Pending           Ship          120        9            37.72   \n",
       "3           9 days           Train           92       11            54.05   \n",
       "4          12 days           Train           91       13            36.16   \n",
       "\n",
       "   Pickup_longitude  Dropoff_Latitude  Dropoff _Longitude  Distance (KM)  \\\n",
       "0             27.51             39.83               14.32           1122   \n",
       "1             28.28             40.83                9.04           2217   \n",
       "2             17.04             40.85               20.53            459   \n",
       "3             27.38             35.01                0.76           2956   \n",
       "4              0.04             47.36               17.55           1905   \n",
       "\n",
       "     Cost  \n",
       "0  224.50  \n",
       "1  665.04  \n",
       "2   91.84  \n",
       "3  886.71  \n",
       "4  571.64  "
      ]
     },
     "execution_count": 18,
     "metadata": {},
     "output_type": "execute_result"
    }
   ],
   "source": [
    "TP.head(5)"
   ]
  },
  {
   "cell_type": "code",
   "execution_count": null,
   "id": "2cb3b62c",
   "metadata": {},
   "outputs": [],
   "source": []
  },
  {
   "cell_type": "code",
   "execution_count": 19,
   "id": "d85db0fc",
   "metadata": {},
   "outputs": [],
   "source": [
    "# Convert date columns to consistent YYYY-MM-DD format\n",
    "date_columns = ['Timestamp', 'Shipped date', 'Delivery Date']"
   ]
  },
  {
   "cell_type": "code",
   "execution_count": 20,
   "id": "c5bf0e41",
   "metadata": {},
   "outputs": [],
   "source": [
    "for col in date_columns:\n",
    "    # Convert all date columns, with 'dayfirst' handling European CSV formats\n",
    "    TP[col] = pd.to_datetime(TP[col], dayfirst=False, errors='coerce')  # Set dayfirst=False for MM/DD/YYYY\n",
    "    \n",
    "    # Format into ISO standard YYYY-MM-DD\n",
    "    TP[col] = TP[col].dt.strftime('%Y-%m-%d %H:%M:%S')"
   ]
  },
  {
   "cell_type": "code",
   "execution_count": null,
   "id": "3e94f33e",
   "metadata": {},
   "outputs": [],
   "source": []
  },
  {
   "cell_type": "code",
   "execution_count": null,
   "id": "9e993fb0",
   "metadata": {},
   "outputs": [],
   "source": []
  },
  {
   "cell_type": "code",
   "execution_count": 21,
   "id": "65bc181f",
   "metadata": {},
   "outputs": [],
   "source": [
    "#Performing some Exploaratory Data Analysis\n"
   ]
  },
  {
   "cell_type": "code",
   "execution_count": 22,
   "id": "45202110",
   "metadata": {},
   "outputs": [
    {
     "name": "stdout",
     "output_type": "stream",
     "text": [
      "Dataset Shape: (302, 17)\n",
      "Columns: ['Order ID', 'Pickup_Locations', 'Drop_off Locations', 'Order Status', 'Timestamp', 'Shipped date', 'Delivery Date', 'Delivery Duration', 'Transport Type', 'Weight (kg)', 'Volume ', 'Pickup_Latitude', 'Pickup_longitude', 'Dropoff_Latitude', 'Dropoff _Longitude', 'Distance (KM)', 'Cost']\n",
      "<class 'pandas.core.frame.DataFrame'>\n",
      "RangeIndex: 302 entries, 0 to 301\n",
      "Data columns (total 17 columns):\n",
      " #   Column              Non-Null Count  Dtype  \n",
      "---  ------              --------------  -----  \n",
      " 0   Order ID            302 non-null    int64  \n",
      " 1   Pickup_Locations    302 non-null    object \n",
      " 2   Drop_off Locations  302 non-null    object \n",
      " 3   Order Status        302 non-null    object \n",
      " 4   Timestamp           302 non-null    object \n",
      " 5   Shipped date        120 non-null    object \n",
      " 6   Delivery Date       120 non-null    object \n",
      " 7   Delivery Duration   302 non-null    object \n",
      " 8   Transport Type      302 non-null    object \n",
      " 9   Weight (kg)         302 non-null    int64  \n",
      " 10  Volume              302 non-null    int64  \n",
      " 11  Pickup_Latitude     302 non-null    float64\n",
      " 12  Pickup_longitude    302 non-null    float64\n",
      " 13  Dropoff_Latitude    302 non-null    float64\n",
      " 14  Dropoff _Longitude  302 non-null    float64\n",
      " 15  Distance (KM)       302 non-null    int64  \n",
      " 16  Cost                302 non-null    float64\n",
      "dtypes: float64(5), int64(4), object(8)\n",
      "memory usage: 40.2+ KB\n",
      "None\n",
      "         Order ID  Weight (kg)     Volume   Pickup_Latitude  Pickup_longitude  \\\n",
      "count  302.000000   302.000000  302.000000       302.000000        302.000000   \n",
      "mean   151.500000    60.433775   20.023179        47.498543         10.297781   \n",
      "std     87.324109    34.967198    8.788553         6.949615         11.508807   \n",
      "min      1.000000     1.000000    5.000000        35.060000         -9.840000   \n",
      "25%     76.250000    30.250000   12.000000        41.740000          0.350000   \n",
      "50%    151.500000    59.000000   20.000000        47.135000         10.095000   \n",
      "75%    226.750000    91.000000   27.000000        53.552500         20.095000   \n",
      "max    302.000000   120.000000   35.000000        59.950000         29.910000   \n",
      "\n",
      "       Dropoff_Latitude  Dropoff _Longitude  Distance (KM)         Cost  \n",
      "count        302.000000          302.000000     302.000000   302.000000  \n",
      "mean          45.111623           10.125464    1327.910596   355.093543  \n",
      "std            5.803831            8.185724     638.511357   266.709403  \n",
      "min           35.010000           -4.860000      55.000000    10.950000  \n",
      "25%           40.215000            3.175000     781.250000   181.467500  \n",
      "50%           45.335000            9.920000    1330.000000   314.055000  \n",
      "75%           50.155000           16.742500    1786.500000   427.287500  \n",
      "max           54.960000           24.590000    3000.000000  2053.940000  \n"
     ]
    }
   ],
   "source": [
    "# Overview of the data\n",
    "print(\"Dataset Shape:\", TP.shape)  # Number of rows and columns\n",
    "print(\"Columns:\", TP.columns.tolist())  # List of column names\n",
    "print(TP.info())  # Data types and non-null values\n",
    "print(TP.describe())  # Summary statistics for numeric columns\n"
   ]
  },
  {
   "cell_type": "code",
   "execution_count": 23,
   "id": "be33ba78",
   "metadata": {},
   "outputs": [
    {
     "name": "stdout",
     "output_type": "stream",
     "text": [
      "Missing Values:\n",
      " Order ID                0\n",
      "Pickup_Locations        0\n",
      "Drop_off Locations      0\n",
      "Order Status            0\n",
      "Timestamp               0\n",
      "Shipped date          182\n",
      "Delivery Date         182\n",
      "Delivery Duration       0\n",
      "Transport Type          0\n",
      "Weight (kg)             0\n",
      "Volume                  0\n",
      "Pickup_Latitude         0\n",
      "Pickup_longitude        0\n",
      "Dropoff_Latitude        0\n",
      "Dropoff _Longitude      0\n",
      "Distance (KM)           0\n",
      "Cost                    0\n",
      "dtype: int64\n"
     ]
    }
   ],
   "source": [
    "#Checking for missing values\n",
    "\n",
    "missing_values = TP.isnull().sum()\n",
    "print(\"Missing Values:\\n\", missing_values)\n"
   ]
  },
  {
   "cell_type": "code",
   "execution_count": 24,
   "id": "8dc34d08",
   "metadata": {},
   "outputs": [],
   "source": [
    "#181 records of items which were still not shipped, and tagged pending which is equivalent to 0, because of the Power BI \n",
    "# integration with the data"
   ]
  },
  {
   "cell_type": "code",
   "execution_count": null,
   "id": "1c4c4b55",
   "metadata": {},
   "outputs": [],
   "source": []
  },
  {
   "cell_type": "code",
   "execution_count": 25,
   "id": "a025def4",
   "metadata": {},
   "outputs": [],
   "source": [
    "# Visulaizing missing values"
   ]
  },
  {
   "cell_type": "code",
   "execution_count": 26,
   "id": "3c971c32",
   "metadata": {},
   "outputs": [],
   "source": [
    "import matplotlib.pyplot as plt"
   ]
  },
  {
   "cell_type": "code",
   "execution_count": 27,
   "id": "fc0365c1",
   "metadata": {},
   "outputs": [],
   "source": [
    "import seaborn as sns"
   ]
  },
  {
   "cell_type": "code",
   "execution_count": 28,
   "id": "4c435481",
   "metadata": {},
   "outputs": [
    {
     "data": {
      "image/png": "[encoded data removed]",
      "text/plain": [
       "<Figure size 1000x600 with 1 Axes>"
      ]
     },
     "metadata": {},
     "output_type": "display_data"
    }
   ],
   "source": [
    "#visualising missing values\n",
    "\n",
    "plt.figure(figsize=(10, 6))\n",
    "sns.heatmap(TP.isnull(), cbar=False, cmap=\"viridis\")\n",
    "plt.title(\"Missing Value Heatmap\")\n",
    "plt.show()"
   ]
  },
  {
   "cell_type": "code",
   "execution_count": null,
   "id": "22d5e9b9",
   "metadata": {},
   "outputs": [],
   "source": []
  },
  {
   "cell_type": "code",
   "execution_count": 29,
   "id": "6935b43e",
   "metadata": {},
   "outputs": [],
   "source": [
    "# Univariate Analysis - analysing columns such as order status, transport types etc"
   ]
  },
  {
   "cell_type": "code",
   "execution_count": 30,
   "id": "dc9147bc",
   "metadata": {},
   "outputs": [
    {
     "name": "stdout",
     "output_type": "stream",
     "text": [
      "Delivered     120\n",
      "In Transit     99\n",
      "Pending        83\n",
      "Name: Order Status, dtype: int64\n"
     ]
    },
    {
     "data": {
      "image/png": "[encoded data removed]",
      "text/plain": [
       "<Figure size 640x480 with 1 Axes>"
      ]
     },
     "metadata": {},
     "output_type": "display_data"
    }
   ],
   "source": [
    "# Order Status Analysis\n",
    "print(TP['Order Status'].value_counts())  # Count of each status\n",
    "\n",
    "# Visualization\n",
    "TP['Order Status'].value_counts().plot(kind='bar', title='Order Status Distribution')\n",
    "plt.ylabel('Count')\n",
    "plt.show()\n"
   ]
  },
  {
   "cell_type": "code",
   "execution_count": 31,
   "id": "0c39eba2",
   "metadata": {
    "scrolled": true
   },
   "outputs": [
    {
     "name": "stdout",
     "output_type": "stream",
     "text": [
      "Ship        216\n",
      "Train        44\n",
      "Truck        28\n",
      "Airplane     14\n",
      "Name: Transport Type, dtype: int64\n"
     ]
    },
    {
     "data": {
      "image/png": "[encoded data removed]",
      "text/plain": [
       "<Figure size 640x480 with 1 Axes>"
      ]
     },
     "metadata": {},
     "output_type": "display_data"
    }
   ],
   "source": [
    "# Transport Type Analysis\n",
    "print(TP['Transport Type'].value_counts())\n",
    "TP['Transport Type'].value_counts().plot(kind='pie', autopct='%1.1f%%', title='Transport Type Distribution')\n",
    "plt.ylabel('')\n",
    "plt.show()"
   ]
  },
  {
   "cell_type": "code",
   "execution_count": null,
   "id": "d80807e0",
   "metadata": {},
   "outputs": [],
   "source": []
  },
  {
   "cell_type": "code",
   "execution_count": 32,
   "id": "7867ba23",
   "metadata": {},
   "outputs": [],
   "source": [
    "# Correlation Analysis - Examining the relationship between cost and distance "
   ]
  },
  {
   "cell_type": "code",
   "execution_count": 33,
   "id": "be4b7060",
   "metadata": {},
   "outputs": [
    {
     "name": "stdout",
     "output_type": "stream",
     "text": [
      "                    Order ID  Weight (kg)   Volume   Pickup_Latitude  \\\n",
      "Order ID            1.000000    -0.043246  0.021855         0.020206   \n",
      "Weight (kg)        -0.043246     1.000000 -0.084097        -0.002731   \n",
      "Volume              0.021855    -0.084097  1.000000         0.006010   \n",
      "Pickup_Latitude     0.020206    -0.002731  0.006010         1.000000   \n",
      "Pickup_longitude   -0.073808     0.098178 -0.012988         0.069291   \n",
      "Dropoff_Latitude   -0.028447     0.074310 -0.041341         0.075671   \n",
      "Dropoff _Longitude -0.030489     0.011937  0.051011         0.023183   \n",
      "Distance (KM)      -0.082577    -0.040214  0.006898         0.078209   \n",
      "Cost               -0.045601    -0.282237 -0.333164         0.085488   \n",
      "\n",
      "                    Pickup_longitude  Dropoff_Latitude  Dropoff _Longitude  \\\n",
      "Order ID                   -0.073808         -0.028447           -0.030489   \n",
      "Weight (kg)                 0.098178          0.074310            0.011937   \n",
      "Volume                     -0.012988         -0.041341            0.051011   \n",
      "Pickup_Latitude             0.069291          0.075671            0.023183   \n",
      "Pickup_longitude            1.000000         -0.052451            0.014658   \n",
      "Dropoff_Latitude           -0.052451          1.000000           -0.048235   \n",
      "Dropoff _Longitude          0.014658         -0.048235            1.000000   \n",
      "Distance (KM)               0.004282         -0.279158            0.019448   \n",
      "Cost                       -0.077668         -0.183790           -0.002755   \n",
      "\n",
      "                    Distance (KM)      Cost  \n",
      "Order ID                -0.082577 -0.045601  \n",
      "Weight (kg)             -0.040214 -0.282237  \n",
      "Volume                   0.006898 -0.333164  \n",
      "Pickup_Latitude          0.078209  0.085488  \n",
      "Pickup_longitude         0.004282 -0.077668  \n",
      "Dropoff_Latitude        -0.279158 -0.183790  \n",
      "Dropoff _Longitude       0.019448 -0.002755  \n",
      "Distance (KM)            1.000000  0.649001  \n",
      "Cost                     0.649001  1.000000  \n"
     ]
    },
    {
     "data": {
      "image/png": "[encoded data removed]",
      "text/plain": [
       "<Figure size 640x480 with 1 Axes>"
      ]
     },
     "metadata": {},
     "output_type": "display_data"
    }
   ],
   "source": [
    "# Correlation Analysis\n",
    "print(TP.corr())  # Correlation matrix for numeric columns\n",
    "\n",
    "# Scatter plot: Cost vs. Distance\n",
    "plt.scatter(TP['Distance (KM)'], TP['Cost'])\n",
    "plt.title('Cost vs Distance')\n",
    "plt.xlabel('Distance (KM)')\n",
    "plt.ylabel('Cost')\n",
    "plt.show()\n",
    "\n"
   ]
  },
  {
   "cell_type": "code",
   "execution_count": null,
   "id": "0bf7e8fb",
   "metadata": {},
   "outputs": [],
   "source": []
  },
  {
   "cell_type": "code",
   "execution_count": 34,
   "id": "65b86653",
   "metadata": {},
   "outputs": [
    {
     "name": "stdout",
     "output_type": "stream",
     "text": [
      "Order ID                int64\n",
      "Pickup_Locations       object\n",
      "Drop_off Locations     object\n",
      "Order Status           object\n",
      "Timestamp              object\n",
      "Shipped date           object\n",
      "Delivery Date          object\n",
      "Delivery Duration      object\n",
      "Transport Type         object\n",
      "Weight (kg)             int64\n",
      "Volume                  int64\n",
      "Pickup_Latitude       float64\n",
      "Pickup_longitude      float64\n",
      "Dropoff_Latitude      float64\n",
      "Dropoff _Longitude    float64\n",
      "Distance (KM)           int64\n",
      "Cost                  float64\n",
      "dtype: object\n",
      "0     Pending\n",
      "1     9 days \n",
      "2     Pending\n",
      "3     9 days \n",
      "4    12 days \n",
      "Name: Delivery Duration, dtype: object\n",
      "0     Ship\n",
      "1    Train\n",
      "2     Ship\n",
      "3    Train\n",
      "4    Train\n",
      "Name: Transport Type, dtype: object\n"
     ]
    }
   ],
   "source": [
    "print(TP.dtypes)  # Check data types of all columns\n",
    "print(TP['Delivery Duration'].head())  # Inspect the 'Delivery Duration' column\n",
    "print(TP['Transport Type'].head())  # Inspect the 'Transport Type' column\n"
   ]
  },
  {
   "cell_type": "code",
   "execution_count": 35,
   "id": "8fe8d4e7",
   "metadata": {},
   "outputs": [],
   "source": [
    "#Coverting Delivery duration to Numeric simply to remove the days on it \n",
    "TP['Delivery Duration'] = TP['Delivery Duration'].astype(str) #first to change it to strings from object\n",
    "TP['Delivery Duration'] = TP['Delivery Duration'].str.extract('(\\d+)').astype(float)\n"
   ]
  },
  {
   "cell_type": "code",
   "execution_count": null,
   "id": "12858a09",
   "metadata": {},
   "outputs": [],
   "source": []
  },
  {
   "cell_type": "code",
   "execution_count": 36,
   "id": "ea29a14a",
   "metadata": {},
   "outputs": [],
   "source": [
    "#changing Transport type to categorical type\n",
    "\n",
    "TP['Transport Type'] = TP['Transport Type'].astype('category')\n"
   ]
  },
  {
   "cell_type": "code",
   "execution_count": 37,
   "id": "35829bd6",
   "metadata": {},
   "outputs": [
    {
     "data": {
      "image/png": "[encoded data removed]",
      "text/plain": [
       "<Figure size 640x480 with 1 Axes>"
      ]
     },
     "metadata": {},
     "output_type": "display_data"
    }
   ],
   "source": [
    "# Box plot: Delivery Duration by Transport Type\n",
    "sns.boxplot(x='Transport Type', y='Delivery Duration', data=TP)\n",
    "plt.title('Delivery Duration by Transport Type')\n",
    "plt.show()\n"
   ]
  },
  {
   "cell_type": "code",
   "execution_count": null,
   "id": "4ba6c0c6",
   "metadata": {},
   "outputs": [],
   "source": []
  },
  {
   "cell_type": "code",
   "execution_count": 38,
   "id": "64d6341b",
   "metadata": {},
   "outputs": [],
   "source": [
    "#Time-Based Analysis to analyse the trends over time"
   ]
  },
  {
   "cell_type": "code",
   "execution_count": 40,
   "id": "a6317adb",
   "metadata": {},
   "outputs": [
    {
     "data": {
      "image/png": "[encoded data removed]",
      "text/plain": [
       "<Figure size 640x480 with 1 Axes>"
      ]
     },
     "metadata": {},
     "output_type": "display_data"
    }
   ],
   "source": [
    "# Extract month and year\n",
    "TP['Month'] = pd.to_datetime(TP['Delivery Date']).dt.month\n",
    "TP['Year'] = pd.to_datetime(TP['Delivery Date']).dt.year\n",
    "\n",
    "# Grouping by month and then visualize the monthly trends of orders\n",
    "monthly_data = TP.groupby('Month')['Order ID'].count()\n",
    "monthly_data.plot(kind='line', title='Monthly Delivered Order Trends')\n",
    "plt.ylabel('Number of Orders')\n",
    "plt.show()\n"
   ]
  },
  {
   "cell_type": "code",
   "execution_count": 61,
   "id": "f4b8218b",
   "metadata": {},
   "outputs": [
    {
     "data": {
      "image/png": "[encoded data removed]",
      "text/plain": [
       "<Figure size 640x480 with 1 Axes>"
      ]
     },
     "metadata": {},
     "output_type": "display_data"
    }
   ],
   "source": [
    "# Delivery Duration Trend Over Months\n",
    "monthly_duration = TP.groupby('Month')['Delivery Duration'].mean()\n",
    "monthly_duration.plot(kind='bar', title='Average Delivery Duration by Month')\n",
    "plt.ylabel('Duration (Days)')\n",
    "plt.show()"
   ]
  },
  {
   "cell_type": "code",
   "execution_count": null,
   "id": "5383cb5c",
   "metadata": {},
   "outputs": [],
   "source": []
  },
  {
   "cell_type": "code",
   "execution_count": null,
   "id": "0a8c3b24",
   "metadata": {},
   "outputs": [],
   "source": [
    "#To further enhance decision making through understanding of best performing routes (Cost and Distance)"
   ]
  },
  {
   "cell_type": "code",
   "execution_count": 63,
   "id": "c108b259",
   "metadata": {},
   "outputs": [
    {
     "name": "stdout",
     "output_type": "stream",
     "text": [
      "Top Routes by Total Cost:\n",
      "                                      TotalCost  TotalDistance  OrderCount\n",
      "Pickup_Locations Drop_off Locations                                      \n",
      "New York         Sydney                8653.30          27222          16\n",
      "                 Madrid                7428.93          25498          18\n",
      "London           Madrid                7034.46          18919          12\n",
      "Paris            Los Angeles           5558.62          18428          13\n",
      "London           Rome                  5351.07          20143          12\n",
      "Tokyo            Sydney                5165.08          14849          12\n",
      "Berlin           Rome                  5119.16          18270          16\n",
      "Tokyo            Madrid                5004.54          22391          19\n",
      "Berlin           Madrid                4992.20          17144          13\n",
      "New York         Singapore             4841.24          20588          16\n",
      "Berlin           Los Angeles           4660.24          21261          14\n",
      "                 Sydney                4563.62          22217          12\n",
      "Paris            Madrid                4444.68          17400          12\n",
      "New York         Rome                  4094.06          16742           9\n",
      "                 Los Angeles           3925.68          12470           9\n"
     ]
    }
   ],
   "source": [
    "#Top Routes by Cost and Distance\n",
    "top_routes = TP.groupby(['Pickup_Locations', 'Drop_off Locations']).agg(\n",
    "    TotalCost=('Cost', 'sum'),\n",
    "    TotalDistance=('Distance (KM)', 'sum'),\n",
    "    OrderCount=('Order ID', 'count')\n",
    ").sort_values(by='TotalCost', ascending=False)\n",
    "print(\"Top Routes by Total Cost:\\n\", top_routes.head(15))\n"
   ]
  },
  {
   "cell_type": "code",
   "execution_count": 72,
   "id": "263fd125",
   "metadata": {},
   "outputs": [
    {
     "name": "stdout",
     "output_type": "stream",
     "text": [
      "                AverageCost  AverageDistance  Count\n",
      "Transport Type                                     \n",
      "Airplane         897.744286      1196.928571     14\n",
      "Ship             265.958519      1329.800926    216\n",
      "Train            385.039091      1283.454545     44\n",
      "Truck            724.323929      1448.678571     28\n"
     ]
    }
   ],
   "source": [
    "#Performance of transport types\n",
    "\n",
    "transport_performance = TP.groupby('Transport Type').agg(\n",
    "    AverageCost=('Cost', 'mean'),\n",
    "    AverageDistance=('Distance (KM)', 'mean'),\n",
    "    Count=('Order ID', 'count')\n",
    ")\n",
    "print(transport_performance)\n"
   ]
  },
  {
   "cell_type": "code",
   "execution_count": 71,
   "id": "e09f9761",
   "metadata": {},
   "outputs": [
    {
     "data": {
      "text/html": [
       "<div>\n",
       "<style scoped>\n",
       "    .dataframe tbody tr th:only-of-type {\n",
       "        vertical-align: middle;\n",
       "    }\n",
       "\n",
       "    .dataframe tbody tr th {\n",
       "        vertical-align: top;\n",
       "    }\n",
       "\n",
       "    .dataframe thead th {\n",
       "        text-align: right;\n",
       "    }\n",
       "</style>\n",
       "<table border=\"1\" class=\"dataframe\">\n",
       "  <thead>\n",
       "    <tr style=\"text-align: right;\">\n",
       "      <th></th>\n",
       "      <th>Order ID</th>\n",
       "      <th>Pickup_Locations</th>\n",
       "      <th>Drop_off Locations</th>\n",
       "      <th>Order Status</th>\n",
       "      <th>Timestamp</th>\n",
       "      <th>Shipped date</th>\n",
       "      <th>Delivery Date</th>\n",
       "      <th>Delivery Duration</th>\n",
       "      <th>Transport Type</th>\n",
       "      <th>Weight (kg)</th>\n",
       "      <th>Volume</th>\n",
       "      <th>Pickup_Latitude</th>\n",
       "      <th>Pickup_longitude</th>\n",
       "      <th>Dropoff_Latitude</th>\n",
       "      <th>Dropoff _Longitude</th>\n",
       "      <th>Distance (KM)</th>\n",
       "      <th>Cost</th>\n",
       "      <th>Month</th>\n",
       "      <th>Year</th>\n",
       "    </tr>\n",
       "  </thead>\n",
       "  <tbody>\n",
       "    <tr>\n",
       "      <th>0</th>\n",
       "      <td>1</td>\n",
       "      <td>Berlin</td>\n",
       "      <td>Rome</td>\n",
       "      <td>Pending</td>\n",
       "      <td>2024-12-28 21:43:23</td>\n",
       "      <td>NaN</td>\n",
       "      <td>NaN</td>\n",
       "      <td>NaN</td>\n",
       "      <td>Ship</td>\n",
       "      <td>34</td>\n",
       "      <td>32</td>\n",
       "      <td>40.85</td>\n",
       "      <td>27.51</td>\n",
       "      <td>39.83</td>\n",
       "      <td>14.32</td>\n",
       "      <td>1122</td>\n",
       "      <td>224.50</td>\n",
       "      <td>NaN</td>\n",
       "      <td>NaN</td>\n",
       "    </tr>\n",
       "    <tr>\n",
       "      <th>1</th>\n",
       "      <td>2</td>\n",
       "      <td>Paris</td>\n",
       "      <td>Los Angeles</td>\n",
       "      <td>Delivered</td>\n",
       "      <td>2024-12-29 21:43:25</td>\n",
       "      <td>2025-01-01 21:43:25</td>\n",
       "      <td>2025-01-14 21:43:25</td>\n",
       "      <td>13.0</td>\n",
       "      <td>Train</td>\n",
       "      <td>92</td>\n",
       "      <td>9</td>\n",
       "      <td>56.36</td>\n",
       "      <td>28.28</td>\n",
       "      <td>40.83</td>\n",
       "      <td>9.04</td>\n",
       "      <td>2217</td>\n",
       "      <td>665.04</td>\n",
       "      <td>1.0</td>\n",
       "      <td>2025.0</td>\n",
       "    </tr>\n",
       "    <tr>\n",
       "      <th>2</th>\n",
       "      <td>3</td>\n",
       "      <td>Tokyo</td>\n",
       "      <td>Rome</td>\n",
       "      <td>In Transit</td>\n",
       "      <td>2024-12-26 21:43:27</td>\n",
       "      <td>NaN</td>\n",
       "      <td>NaN</td>\n",
       "      <td>NaN</td>\n",
       "      <td>Ship</td>\n",
       "      <td>120</td>\n",
       "      <td>9</td>\n",
       "      <td>37.72</td>\n",
       "      <td>17.04</td>\n",
       "      <td>40.85</td>\n",
       "      <td>20.53</td>\n",
       "      <td>459</td>\n",
       "      <td>91.84</td>\n",
       "      <td>NaN</td>\n",
       "      <td>NaN</td>\n",
       "    </tr>\n",
       "    <tr>\n",
       "      <th>3</th>\n",
       "      <td>4</td>\n",
       "      <td>New York</td>\n",
       "      <td>Singapore</td>\n",
       "      <td>Delivered</td>\n",
       "      <td>2024-12-30 21:43:28</td>\n",
       "      <td>2025-01-01 21:43:28</td>\n",
       "      <td>2025-01-13 21:43:28</td>\n",
       "      <td>12.0</td>\n",
       "      <td>Train</td>\n",
       "      <td>92</td>\n",
       "      <td>11</td>\n",
       "      <td>54.05</td>\n",
       "      <td>27.38</td>\n",
       "      <td>35.01</td>\n",
       "      <td>0.76</td>\n",
       "      <td>2956</td>\n",
       "      <td>886.71</td>\n",
       "      <td>1.0</td>\n",
       "      <td>2025.0</td>\n",
       "    </tr>\n",
       "    <tr>\n",
       "      <th>4</th>\n",
       "      <td>5</td>\n",
       "      <td>London</td>\n",
       "      <td>Rome</td>\n",
       "      <td>Delivered</td>\n",
       "      <td>2024-12-28 21:43:30</td>\n",
       "      <td>2024-12-31 21:43:30</td>\n",
       "      <td>2025-10-01 21:43:30</td>\n",
       "      <td>10.0</td>\n",
       "      <td>Train</td>\n",
       "      <td>91</td>\n",
       "      <td>13</td>\n",
       "      <td>36.16</td>\n",
       "      <td>0.04</td>\n",
       "      <td>47.36</td>\n",
       "      <td>17.55</td>\n",
       "      <td>1905</td>\n",
       "      <td>571.64</td>\n",
       "      <td>10.0</td>\n",
       "      <td>2025.0</td>\n",
       "    </tr>\n",
       "    <tr>\n",
       "      <th>5</th>\n",
       "      <td>6</td>\n",
       "      <td>London</td>\n",
       "      <td>Sydney</td>\n",
       "      <td>In Transit</td>\n",
       "      <td>2024-12-29 21:43:31</td>\n",
       "      <td>NaN</td>\n",
       "      <td>NaN</td>\n",
       "      <td>NaN</td>\n",
       "      <td>Ship</td>\n",
       "      <td>37</td>\n",
       "      <td>19</td>\n",
       "      <td>39.58</td>\n",
       "      <td>24.87</td>\n",
       "      <td>45.08</td>\n",
       "      <td>-1.36</td>\n",
       "      <td>2230</td>\n",
       "      <td>445.93</td>\n",
       "      <td>NaN</td>\n",
       "      <td>NaN</td>\n",
       "    </tr>\n",
       "    <tr>\n",
       "      <th>6</th>\n",
       "      <td>7</td>\n",
       "      <td>Paris</td>\n",
       "      <td>Singapore</td>\n",
       "      <td>Pending</td>\n",
       "      <td>2024-12-28 21:43:33</td>\n",
       "      <td>NaN</td>\n",
       "      <td>NaN</td>\n",
       "      <td>NaN</td>\n",
       "      <td>Ship</td>\n",
       "      <td>111</td>\n",
       "      <td>28</td>\n",
       "      <td>51.97</td>\n",
       "      <td>-7.90</td>\n",
       "      <td>52.57</td>\n",
       "      <td>8.84</td>\n",
       "      <td>1138</td>\n",
       "      <td>227.69</td>\n",
       "      <td>NaN</td>\n",
       "      <td>NaN</td>\n",
       "    </tr>\n",
       "    <tr>\n",
       "      <th>7</th>\n",
       "      <td>8</td>\n",
       "      <td>Berlin</td>\n",
       "      <td>Madrid</td>\n",
       "      <td>In Transit</td>\n",
       "      <td>2024-12-30 21:43:34</td>\n",
       "      <td>NaN</td>\n",
       "      <td>NaN</td>\n",
       "      <td>NaN</td>\n",
       "      <td>Ship</td>\n",
       "      <td>117</td>\n",
       "      <td>11</td>\n",
       "      <td>44.29</td>\n",
       "      <td>20.48</td>\n",
       "      <td>52.20</td>\n",
       "      <td>-2.86</td>\n",
       "      <td>1927</td>\n",
       "      <td>385.50</td>\n",
       "      <td>NaN</td>\n",
       "      <td>NaN</td>\n",
       "    </tr>\n",
       "    <tr>\n",
       "      <th>8</th>\n",
       "      <td>9</td>\n",
       "      <td>Paris</td>\n",
       "      <td>Singapore</td>\n",
       "      <td>Delivered</td>\n",
       "      <td>2024-12-30 21:06:47</td>\n",
       "      <td>2025-01-01 21:06:47</td>\n",
       "      <td>2025-12-01 21:06:47</td>\n",
       "      <td>11.0</td>\n",
       "      <td>Airplane</td>\n",
       "      <td>19</td>\n",
       "      <td>6</td>\n",
       "      <td>48.43</td>\n",
       "      <td>11.26</td>\n",
       "      <td>53.54</td>\n",
       "      <td>15.38</td>\n",
       "      <td>636</td>\n",
       "      <td>477.34</td>\n",
       "      <td>12.0</td>\n",
       "      <td>2025.0</td>\n",
       "    </tr>\n",
       "    <tr>\n",
       "      <th>9</th>\n",
       "      <td>10</td>\n",
       "      <td>Berlin</td>\n",
       "      <td>Singapore</td>\n",
       "      <td>In Transit</td>\n",
       "      <td>2024-12-30 21:43:36</td>\n",
       "      <td>NaN</td>\n",
       "      <td>NaN</td>\n",
       "      <td>NaN</td>\n",
       "      <td>Ship</td>\n",
       "      <td>29</td>\n",
       "      <td>17</td>\n",
       "      <td>36.36</td>\n",
       "      <td>24.34</td>\n",
       "      <td>35.10</td>\n",
       "      <td>-1.30</td>\n",
       "      <td>2312</td>\n",
       "      <td>462.30</td>\n",
       "      <td>NaN</td>\n",
       "      <td>NaN</td>\n",
       "    </tr>\n",
       "  </tbody>\n",
       "</table>\n",
       "</div>"
      ],
      "text/plain": [
       "   Order ID Pickup_Locations Drop_off Locations Order Status  \\\n",
       "0         1           Berlin               Rome      Pending   \n",
       "1         2            Paris        Los Angeles    Delivered   \n",
       "2         3            Tokyo               Rome   In Transit   \n",
       "3         4         New York          Singapore    Delivered   \n",
       "4         5           London               Rome    Delivered   \n",
       "5         6           London             Sydney   In Transit   \n",
       "6         7            Paris          Singapore      Pending   \n",
       "7         8           Berlin             Madrid   In Transit   \n",
       "8         9            Paris          Singapore    Delivered   \n",
       "9        10           Berlin          Singapore   In Transit   \n",
       "\n",
       "             Timestamp         Shipped date        Delivery Date  \\\n",
       "0  2024-12-28 21:43:23                  NaN                  NaN   \n",
       "1  2024-12-29 21:43:25  2025-01-01 21:43:25  2025-01-14 21:43:25   \n",
       "2  2024-12-26 21:43:27                  NaN                  NaN   \n",
       "3  2024-12-30 21:43:28  2025-01-01 21:43:28  2025-01-13 21:43:28   \n",
       "4  2024-12-28 21:43:30  2024-12-31 21:43:30  2025-10-01 21:43:30   \n",
       "5  2024-12-29 21:43:31                  NaN                  NaN   \n",
       "6  2024-12-28 21:43:33                  NaN                  NaN   \n",
       "7  2024-12-30 21:43:34                  NaN                  NaN   \n",
       "8  2024-12-30 21:06:47  2025-01-01 21:06:47  2025-12-01 21:06:47   \n",
       "9  2024-12-30 21:43:36                  NaN                  NaN   \n",
       "\n",
       "   Delivery Duration Transport Type  Weight (kg)  Volume   Pickup_Latitude  \\\n",
       "0                NaN           Ship           34       32            40.85   \n",
       "1               13.0          Train           92        9            56.36   \n",
       "2                NaN           Ship          120        9            37.72   \n",
       "3               12.0          Train           92       11            54.05   \n",
       "4               10.0          Train           91       13            36.16   \n",
       "5                NaN           Ship           37       19            39.58   \n",
       "6                NaN           Ship          111       28            51.97   \n",
       "7                NaN           Ship          117       11            44.29   \n",
       "8               11.0       Airplane           19        6            48.43   \n",
       "9                NaN           Ship           29       17            36.36   \n",
       "\n",
       "   Pickup_longitude  Dropoff_Latitude  Dropoff _Longitude  Distance (KM)  \\\n",
       "0             27.51             39.83               14.32           1122   \n",
       "1             28.28             40.83                9.04           2217   \n",
       "2             17.04             40.85               20.53            459   \n",
       "3             27.38             35.01                0.76           2956   \n",
       "4              0.04             47.36               17.55           1905   \n",
       "5             24.87             45.08               -1.36           2230   \n",
       "6             -7.90             52.57                8.84           1138   \n",
       "7             20.48             52.20               -2.86           1927   \n",
       "8             11.26             53.54               15.38            636   \n",
       "9             24.34             35.10               -1.30           2312   \n",
       "\n",
       "     Cost  Month    Year  \n",
       "0  224.50    NaN     NaN  \n",
       "1  665.04    1.0  2025.0  \n",
       "2   91.84    NaN     NaN  \n",
       "3  886.71    1.0  2025.0  \n",
       "4  571.64   10.0  2025.0  \n",
       "5  445.93    NaN     NaN  \n",
       "6  227.69    NaN     NaN  \n",
       "7  385.50    NaN     NaN  \n",
       "8  477.34   12.0  2025.0  \n",
       "9  462.30    NaN     NaN  "
      ]
     },
     "execution_count": 71,
     "metadata": {},
     "output_type": "execute_result"
    }
   ],
   "source": [
    "TP.head(10)"
   ]
  },
  {
   "cell_type": "code",
   "execution_count": 42,
   "id": "0c74e89b",
   "metadata": {},
   "outputs": [],
   "source": []
  },
  {
   "cell_type": "code",
   "execution_count": null,
   "id": "68006b4f",
   "metadata": {},
   "outputs": [],
   "source": [
    "\n"
   ]
  },
  {
   "cell_type": "code",
   "execution_count": 44,
   "id": "f4044e29",
   "metadata": {},
   "outputs": [],
   "source": [
    "#saving ...\n",
    "csv_filename = 'transport_data2.csv'\n",
    "TP.to_csv(csv_filename, index = False)"
   ]
  },
  {
   "cell_type": "code",
   "execution_count": 45,
   "id": "2f8b2383",
   "metadata": {},
   "outputs": [
    {
     "name": "stdout",
     "output_type": "stream",
     "text": [
      "Data sucessfully exported to transport_data2.csv\n"
     ]
    }
   ],
   "source": [
    "print(f'Data sucessfully exported to {csv_filename}')"
   ]
  },
  {
   "cell_type": "code",
   "execution_count": null,
   "id": "f940be03",
   "metadata": {},
   "outputs": [],
   "source": []
  }
 ],
 "metadata": {
  "kernelspec": {
   "display_name": "Python 3 (ipykernel)",
   "language": "python",
   "name": "python3"
  },
  "language_info": {
   "codemirror_mode": {
    "name": "ipython",
    "version": 3
   },
   "file_extension": ".py",
   "mimetype": "text/x-python",
   "name": "python",
   "nbconvert_exporter": "python",
   "pygments_lexer": "ipython3",
   "version": "3.9.13"
  }
 },
 "nbformat": 4,
 "nbformat_minor": 5
}
